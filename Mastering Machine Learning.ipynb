{
 "cells": [
  {
   "cell_type": "markdown",
   "metadata": {},
   "source": [
    "This is a curriculum that one can follow to learn Machine Learning (and Deep Learning). I don't claim that you would master Machine Learning within a certain timeframe, however, with enough motivation and these guidelines it can be done within the shortest time period possible."
   ]
  },
  {
   "cell_type": "markdown",
   "metadata": {},
   "source": [
    "# ---- Mathematics ----\n",
    "\n",
    "Mathematics is an integral part of Machine Learning. There are 3 main topics that you need to learn when it comes to Machine Learning:\n",
    "\n",
    "1. Linear Algebra\n",
    "2. Calculus\n",
    "3. Statistics and Probability"
   ]
  },
  {
   "cell_type": "markdown",
   "metadata": {},
   "source": [
    "## ---- Linear Algebra ----\n",
    "\n",
    "### Khan Acamedy course\n",
    "https://www.khanacademy.org/math/linear-algebra\n",
    "\n",
    "### Strang's Lectures\n",
    "https://ocw.mit.edu/courses/mathematics/18-06-linear-algebra-spring-2010/"
   ]
  },
  {
   "cell_type": "markdown",
   "metadata": {},
   "source": [
    "## ---- Calculus ----\n",
    "\n",
    "### The Essence of Calculus by 3Blue1Brown\n",
    "https://www.youtube.com/watch?v=WUvTyaaNkzM&list=PLZHQObOWTQDMsr9K-rj53DwVRMYO3t5Yr"
   ]
  },
  {
   "cell_type": "markdown",
   "metadata": {},
   "source": [
    "## ---- Statistics and Probability ----\n",
    "\n",
    "### Khan Academy course\n",
    "https://www.khanacademy.org/math/statistics-probability"
   ]
  },
  {
   "cell_type": "markdown",
   "metadata": {},
   "source": [
    "# ---- Machine Learning ----\n",
    "\n",
    "### Machine Learning by Andrew Ng (Coursera)\n",
    "https://www.coursera.org/learn/machine-learning\n",
    "\n",
    "### Machine Learning with Python (Cognitive Class)\n",
    "https://cognitiveclass.ai/courses/machine-learning-with-python\n",
    "\n",
    "### Introduction to Machine Learning Course (Udacity)\n",
    "https://www.udacity.com/course/intro-to-machine-learning--ud120"
   ]
  },
  {
   "cell_type": "markdown",
   "metadata": {},
   "source": [
    "# ---- Deep Learning ----\n",
    "\n",
    "### Deep Learning by Andrew Ng (Coursera)\n",
    "https://www.coursera.org/specializations/deep-learning\n",
    "\n",
    "### Deep Learning with Tensorflow (Cognitive Class)\n",
    "https://cognitiveclass.ai/courses/deep-learning-tensorflow\n",
    "\n",
    "### Tensorflow Curriculum for ML/DL (Google)\n",
    "https://www.tensorflow.org/resources/learn-ml"
   ]
  }
 ],
 "metadata": {
  "kernelspec": {
   "display_name": "Python 3",
   "language": "python",
   "name": "python3"
  },
  "language_info": {
   "codemirror_mode": {
    "name": "ipython",
    "version": 3
   },
   "file_extension": ".py",
   "mimetype": "text/x-python",
   "name": "python",
   "nbconvert_exporter": "python",
   "pygments_lexer": "ipython3",
   "version": "3.7.4"
  }
 },
 "nbformat": 4,
 "nbformat_minor": 2
}
